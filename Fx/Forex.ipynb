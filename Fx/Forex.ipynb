{
 "cells": [
  {
   "cell_type": "code",
   "execution_count": 9,
   "metadata": {},
   "outputs": [],
   "source": [
    "import numpy as np\n",
    "from FxModel import NNModel, generate_random_dataset"
   ]
  },
  {
   "cell_type": "code",
   "execution_count": 10,
   "metadata": {},
   "outputs": [],
   "source": [
    "X, Y = np.load('X_3600.npy'),np.load('Y_3600.npy'),\n",
    "x, y = generate_random_dataset(X, Y)"
   ]
  },
  {
   "cell_type": "code",
   "execution_count": null,
   "metadata": {},
   "outputs": [
    {
     "name": "stderr",
     "output_type": "stream",
     "text": [
      "2018-12-31 18:38:49,559 FxModel DEBUG Initializing\n"
     ]
    },
    {
     "name": "stdout",
     "output_type": "stream",
     "text": [
      "[ Mon Dec 31 18:38:50 2018 ] Epoch 0 Loss: 0.6748942 accuracy 0.5185185074806213\n",
      "[ Mon Dec 31 18:45:42 2018 ] Epoch 10000 Loss: 0.6367971 accuracy 0.6666666865348816\n",
      "[ Mon Dec 31 18:53:23 2018 ] Epoch 20000 Loss: 0.6635981 accuracy 0.48148149251937866\n",
      "[ Mon Dec 31 19:00:22 2018 ] Epoch 30000 Loss: 0.5891073 accuracy 0.7037037014961243\n",
      "[ Mon Dec 31 19:08:36 2018 ] Epoch 40000 Loss: 0.6061764 accuracy 0.6296296119689941\n",
      "[ Mon Dec 31 19:16:39 2018 ] Epoch 50000 Loss: 0.5268748 accuracy 0.8888888955116272\n",
      "[ Mon Dec 31 19:23:44 2018 ] Epoch 60000 Loss: 0.6086912 accuracy 0.7407407164573669\n",
      "[ Mon Dec 31 19:30:57 2018 ] Epoch 70000 Loss: 0.6100987 accuracy 0.7037037014961243\n",
      "[ Mon Dec 31 19:39:17 2018 ] Epoch 80000 Loss: 0.5172765 accuracy 0.8888888955116272\n",
      "[ Mon Dec 31 19:47:44 2018 ] Epoch 90000 Loss: 0.6001375 accuracy 0.7777777910232544\n",
      "[ Mon Dec 31 19:55:44 2018 ] Epoch 100000 Loss: 0.5253771 accuracy 0.8888888955116272\n",
      "[ Mon Dec 31 20:03:31 2018 ] Epoch 110000 Loss: 0.5362087 accuracy 0.8888888955116272\n",
      "[ Mon Dec 31 20:11:26 2018 ] Epoch 120000 Loss: 0.5559486 accuracy 0.7777777910232544\n",
      "[ Mon Dec 31 20:19:22 2018 ] Epoch 130000 Loss: 0.5197321 accuracy 0.8888888955116272\n",
      "[ Mon Dec 31 20:26:51 2018 ] Epoch 140000 Loss: 0.5673632 accuracy 0.7407407164573669\n",
      "[ Mon Dec 31 20:33:23 2018 ] Epoch 150000 Loss: 0.5257941 accuracy 0.8888888955116272\n"
     ]
    }
   ],
   "source": [
    "import tensorflow as tf\n",
    "tf.reset_default_graph()\n",
    "rnn = NNModel()\n",
    "rnn.fit(X,Y, epochs = 750000, every = 10000, generator = True)"
   ]
  },
  {
   "cell_type": "markdown",
   "metadata": {},
   "source": [
    "\n",
    "<strong>Restoring trained model and used for prediction</strong>\n"
   ]
  },
  {
   "cell_type": "code",
   "execution_count": null,
   "metadata": {},
   "outputs": [],
   "source": [
    "rnn = NNModel()\n",
    "rnn.restore('Model/model-20000')\n",
    "rnn.compare(rnn.predict(x),y)"
   ]
  }
 ],
 "metadata": {
  "kernelspec": {
   "display_name": "Python 3",
   "language": "python",
   "name": "python3"
  },
  "language_info": {
   "codemirror_mode": {
    "name": "ipython",
    "version": 3
   },
   "file_extension": ".py",
   "mimetype": "text/x-python",
   "name": "python",
   "nbconvert_exporter": "python",
   "pygments_lexer": "ipython3",
   "version": "3.6.6"
  }
 },
 "nbformat": 4,
 "nbformat_minor": 2
}

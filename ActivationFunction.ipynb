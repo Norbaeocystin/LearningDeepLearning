{
 "cells": [
  {
   "cell_type": "markdown",
   "metadata": {},
   "source": [
    "Activation Functions"
   ]
  },
  {
   "cell_type": "code",
   "execution_count": 35,
   "metadata": {},
   "outputs": [],
   "source": [
    "%matplotlib inline\n",
    "import matplotlib.pyplot as plt\n",
    "import numpy as np\n",
    "import tensorflow as tf\n",
    "\n",
    "def plot(x, y, title = '', xlabel = 'Activity of Neuron', ylabel = 'Output of Neuron'):\n",
    "    plt.title = title\n",
    "    plt.xlabel = xlabel\n",
    "    plt.ylabel = ylabel\n",
    "    plt.plot(x,y)\n",
    "    plt.show()\n",
    "    \n",
    "def plot_list(x, y, titles,xlabel = 'Activity of Neuron', ylabel = 'Output of Neuron' ):\n",
    "    fig, axes = plt.subplots(1, len(y), sharey=False, figsize = [20, 1])\n",
    "    for i,value in enumerate(y):\n",
    "        axes[i].plot(x, value)\n",
    "        axes[i].set_title(titles[i])\n",
    "        axes[i].set_xlabel(xlabel)\n",
    "        axes[i].set_ylabel(ylabel)\n",
    "\n",
    "def threshold(x):\n",
    "    '''\n",
    "    threshold activation function\n",
    "    '''\n",
    "    X = tf.placeholder(tf.float32, name = 'X')\n",
    "    shape = tf.shape(X)\n",
    "    cond = tf.less(X, tf.zeros(shape))\n",
    "    out = tf.where(cond, tf.zeros(shape), tf.ones(shape))\n",
    "    init = tf.global_variables_initializer()\n",
    "    with tf.Session() as sess:\n",
    "        sess.run(init)\n",
    "        response = sess.run(out, feed_dict = {X:x})\n",
    "    return response\n",
    "\n",
    "def sigmoid(x):\n",
    "    '''\n",
    "    sigmoid activation function\n",
    "    '''\n",
    "    X = tf.placeholder(tf.float32, name = 'X')\n",
    "    out = tf.sigmoid(X)\n",
    "    init = tf.global_variables_initializer()\n",
    "    with tf.Session() as sess:\n",
    "        sess.run(init)\n",
    "        response = sess.run(out, feed_dict = {X:x})\n",
    "    return response\n",
    "\n",
    "def tanh(x):\n",
    "    '''\n",
    "    Hyperbolic activation Function\n",
    "    '''\n",
    "    X = tf.placeholder(tf.float32, name = 'X')\n",
    "    out = tf.tanh(X)\n",
    "    init = tf.global_variables_initializer()\n",
    "    with tf.Session() as sess:\n",
    "        sess.run(init)\n",
    "        response = sess.run(out, feed_dict = {X:x})\n",
    "    return response\n",
    "\n",
    "def relu(x):\n",
    "    '''\n",
    "    Rectified Linear Activation Function\n",
    "    '''\n",
    "    X = tf.placeholder(tf.float32, name = 'X')\n",
    "    out = tf.nn.relu(X)\n",
    "    init = tf.global_variables_initializer()\n",
    "    with tf.Session() as sess:\n",
    "        sess.run(init)\n",
    "        response = sess.run(out, feed_dict = {X:x})\n",
    "    return response\n",
    "\n",
    "def softmax(x):\n",
    "    '''\n",
    "    Softmax Activation Function\n",
    "    '''\n",
    "    X = tf.placeholder(tf.float32, name = 'X')\n",
    "    out = tf.nn.softmax(X)\n",
    "    init = tf.global_variables_initializer()\n",
    "    with tf.Session() as sess:\n",
    "        sess.run(init)\n",
    "        response = sess.run(out, feed_dict = {X:x})\n",
    "    return response"
   ]
  },
  {
   "cell_type": "code",
   "execution_count": 36,
   "metadata": {},
   "outputs": [
    {
     "data": {
      "image/png": "[encoded data removed]",
      "text/plain": [
       "<Figure size 1440x72 with 5 Axes>"
      ]
     },
     "metadata": {},
     "output_type": "display_data"
    }
   ],
   "source": [
    "x = np.linspace(-10, 10, 100)\n",
    "y = threshold(x)\n",
    "y_1 = sigmoid(x)\n",
    "y_2 = tanh(x)\n",
    "y_3 = relu(x)\n",
    "y_4 = softmax(x)\n",
    "plot_list(x, [y, y_1, y_2, y_3, y_4], ['Threshold', 'Sigmoid', 'Tanh', 'ReLU', 'Softmax'])"
   ]
  },
  {
   "cell_type": "code",
   "execution_count": null,
   "metadata": {},
   "outputs": [],
   "source": []
  }
 ],
 "metadata": {
  "kernelspec": {
   "display_name": "Python 3",
   "language": "python",
   "name": "python3"
  },
  "language_info": {
   "codemirror_mode": {
    "name": "ipython",
    "version": 3
   },
   "file_extension": ".py",
   "mimetype": "text/x-python",
   "name": "python",
   "nbconvert_exporter": "python",
   "pygments_lexer": "ipython3",
   "version": "3.6.6"
  }
 },
 "nbformat": 4,
 "nbformat_minor": 2
}

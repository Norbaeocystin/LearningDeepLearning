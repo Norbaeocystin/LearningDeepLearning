{
 "cells": [
  {
   "cell_type": "code",
   "execution_count": 1,
   "metadata": {},
   "outputs": [],
   "source": [
    "#example for model parallelism using compiled mxnet with USE_DIST_KVSTORE=1\n",
    "import mxnet as mx\n",
    "from mxnet import gluon, init, nd, autograd\n",
    "from mxnet.gluon import nn, rnn\n",
    "from mxnet.contrib import text\n",
    "import numpy as np\n",
    "import time\n",
    "import os\n",
    "import logging"
   ]
  },
  {
   "cell_type": "code",
   "execution_count": 2,
   "metadata": {},
   "outputs": [],
   "source": [
    "class LR1(nn.Block):\n",
    "    def __init__(self, **kwargs):\n",
    "        super(LR1, self).__init__(**kwargs)\n",
    "        self.fc1 = nn.Dense(2)\n",
    "        self.fc2 = nn.Dense(2)\n",
    "\n",
    "    def forward(self, inputs):\n",
    "        fc1 = self.fc1(inputs)\n",
    "        outputs = self.fc2(fc1)\n",
    "        return outputs  \n",
    "    \n",
    "class LR2(nn.Block):\n",
    "    def __init__(self,  **kwargs):\n",
    "        super(LR2, self).__init__(**kwargs)\n",
    "        self.fc1 = nn.Dense(2)\n",
    "        self.fc2 = nn.Dense(1)\n",
    "\n",
    "    def forward(self, inputs):\n",
    "        fc1 = self.fc1(inputs)\n",
    "        outputs = self.fc2(fc1)\n",
    "        return outputs  \n",
    "    \n",
    "class LinearRegression(object):\n",
    "    \n",
    "    def __init__(self, ctx1, ctx2):\n",
    "        self.ctx1 = ctx1\n",
    "        self.ctx2 = ctx2\n",
    "        self.net1 = LR1()\n",
    "        self.net1.initialize(mx.init.Xavier(magnitude=2.24), ctx= ctx1)\n",
    "        self.net2 = LR2()\n",
    "        self.net2.initialize(mx.init.Xavier(magnitude=2.24), ctx= ctx2)\n",
    "        \n",
    "    def accuracy(self, X, Y):\n",
    "        # root mean squared error\n",
    "        mse = mx.metric.MSE()\n",
    "        mse.update(labels = X, preds = Y)\n",
    "        return mse.get()\n",
    "        \n",
    "    def fit(self, X,Y, epochs = 10, learning_rate = 0.001, every = 1, optimisation = 'sgd'):\n",
    "        self.X = X\n",
    "        self.Y = Y\n",
    "        self.trainer1 = gluon.Trainer(self.net1.collect_params(), optimisation, {'learning_rate': learning_rate, 'clip_gradient':5}, kvstore='device')\n",
    "        self.trainer2 = gluon.Trainer(self.net2.collect_params(), optimisation, {'learning_rate': learning_rate, 'clip_gradient':5}, kvstore='device')\n",
    "        self.loss = gluon.loss.L2Loss()\n",
    "        for epoch in range(1, epochs + 1):\n",
    "            with autograd.record():\n",
    "                output1 = self.net1(self.X)\n",
    "                output2 = output1.copyto(self.ctx2)\n",
    "                predicted = self.net2(output2)\n",
    "                l = self.loss(predicted,self.Y)\n",
    "                acc = self.accuracy(predicted, self.Y)\n",
    "            if epoch % every ==0:\n",
    "                print(epoch, acc)\n",
    "            l.backward()\n",
    "            #self.trainer1.set_learning_rate(learning_rate)\n",
    "            #self.trainer2.set_learning_rate(learning_rate)\n",
    "            self.trainer1.step(1000, ignore_stale_grad=False)\n",
    "            self.trainer2.step(1000, ignore_stale_grad=False)"
   ]
  },
  {
   "cell_type": "code",
   "execution_count": 3,
   "metadata": {},
   "outputs": [],
   "source": [
    "def synthetic_data(w, b, num_examples):\n",
    "    \"\"\"generate y = X w + b + noise\"\"\"\n",
    "    X = nd.random.normal(scale=1, shape=(num_examples, len(w)))\n",
    "    y = nd.dot(X, w) + b\n",
    "    y += nd.random.normal(scale=0.01, shape=y.shape)\n",
    "    return X, y\n",
    "\n",
    "true_w = nd.array([2,-3.4])\n",
    "true_b = 4.2\n",
    "features, labels = synthetic_data(true_w, true_b, 1000)"
   ]
  },
  {
   "cell_type": "code",
   "execution_count": 4,
   "metadata": {},
   "outputs": [],
   "source": [
    "ctx1 = mx.gpu(0)\n",
    "ctx2 = mx.gpu(1)\n",
    "y = labels.copyto(ctx2).reshape(1000,1)\n",
    "x = features.copyto(ctx1).reshape(1000, 2)"
   ]
  },
  {
   "cell_type": "code",
   "execution_count": 5,
   "metadata": {},
   "outputs": [],
   "source": [
    "lr = LinearRegression(ctx1, ctx2)"
   ]
  },
  {
   "cell_type": "code",
   "execution_count": null,
   "metadata": {},
   "outputs": [],
   "source": [
    "lr.fit(x,y, epochs = 100, every = 1, learning_rate = 0.01)"
   ]
  },
  {
   "cell_type": "code",
   "execution_count": 7,
   "metadata": {},
   "outputs": [
    {
     "data": {
      "text/plain": [
       "\n",
       "[[ 5.9986997]\n",
       " [ 2.2654257]\n",
       " [12.184246 ]\n",
       " [ 2.188433 ]\n",
       " [11.668544 ]]\n",
       "<NDArray 5x1 @gpu(1)>"
      ]
     },
     "execution_count": 7,
     "metadata": {},
     "output_type": "execute_result"
    }
   ],
   "source": [
    "lr.net2(lr.net1(x[:5]).copyto(lr.ctx2))"
   ]
  },
  {
   "cell_type": "code",
   "execution_count": 8,
   "metadata": {},
   "outputs": [
    {
     "data": {
      "text/plain": [
       "\n",
       "[[ 6.000587 ]\n",
       " [ 2.2676215]\n",
       " [12.192286 ]\n",
       " [ 2.1933131]\n",
       " [11.677933 ]]\n",
       "<NDArray 5x1 @gpu(1)>"
      ]
     },
     "execution_count": 8,
     "metadata": {},
     "output_type": "execute_result"
    }
   ],
   "source": [
    "y[:5]"
   ]
  },
  {
   "cell_type": "code",
   "execution_count": 7,
   "metadata": {},
   "outputs": [
    {
     "ename": "NameError",
     "evalue": "name 'pr' is not defined",
     "output_type": "error",
     "traceback": [
      "\u001b[0;31m---------------------------------------------------------------------------\u001b[0m",
      "\u001b[0;31mNameError\u001b[0m                                 Traceback (most recent call last)",
      "\u001b[0;32m<ipython-input-7-f7bcde75b7eb>\u001b[0m in \u001b[0;36m<module>\u001b[0;34m\u001b[0m\n\u001b[0;32m----> 1\u001b[0;31m \u001b[0mpr\u001b[0m\u001b[0;34m[\u001b[0m\u001b[0;34m'dense4_weight'\u001b[0m\u001b[0;34m]\u001b[0m\u001b[0;34m.\u001b[0m\u001b[0mdata\u001b[0m\u001b[0;34m(\u001b[0m\u001b[0;34m)\u001b[0m\u001b[0;34m[\u001b[0m\u001b[0;34m:\u001b[0m\u001b[0;34m]\u001b[0m \u001b[0;34m=\u001b[0m \u001b[0mpr\u001b[0m\u001b[0;34m[\u001b[0m\u001b[0;34m'dense4_weight'\u001b[0m\u001b[0;34m]\u001b[0m\u001b[0;34m.\u001b[0m\u001b[0mdata\u001b[0m\u001b[0;34m(\u001b[0m\u001b[0;34m)\u001b[0m\u001b[0;34m.\u001b[0m\u001b[0mgrad\u001b[0m\u001b[0;34m\u001b[0m\u001b[0m\n\u001b[0m",
      "\u001b[0;31mNameError\u001b[0m: name 'pr' is not defined"
     ]
    }
   ],
   "source": [
    "pr['dense4_weight'].data()[:] = pr['dense4_weight'].data().grad"
   ]
  },
  {
   "cell_type": "code",
   "execution_count": 32,
   "metadata": {},
   "outputs": [
    {
     "data": {
      "text/plain": [
       "\n",
       "[[0. 0.]\n",
       " [0. 0.]]\n",
       "<NDArray 2x2 @gpu(0)>"
      ]
     },
     "execution_count": 32,
     "metadata": {},
     "output_type": "execute_result"
    }
   ],
   "source": [
    "pr['dense4_weight'].data()"
   ]
  },
  {
   "cell_type": "code",
   "execution_count": null,
   "metadata": {},
   "outputs": [],
   "source": []
  }
 ],
 "metadata": {
  "kernelspec": {
   "display_name": "Python 3",
   "language": "python",
   "name": "python3"
  },
  "language_info": {
   "codemirror_mode": {
    "name": "ipython",
    "version": 3
   },
   "file_extension": ".py",
   "mimetype": "text/x-python",
   "name": "python",
   "nbconvert_exporter": "python",
   "pygments_lexer": "ipython3",
   "version": "3.6.6"
  }
 },
 "nbformat": 4,
 "nbformat_minor": 2
}

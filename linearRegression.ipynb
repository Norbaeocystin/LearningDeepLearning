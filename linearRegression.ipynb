{
 "cells": [
  {
   "cell_type": "markdown",
   "metadata": {},
   "source": [
    "House price estimation multiple linear regression ( Code is heavily inspired by book TensorFlow 1.x Deep Learning Cookbook )\n"
   ]
  },
  {
   "cell_type": "code",
   "execution_count": 54,
   "metadata": {},
   "outputs": [],
   "source": [
    "%matplotlib inline\n",
    "import tensorflow as tf\n",
    "import numpy as np\n",
    "import matplotlib.pyplot as plt\n",
    "\n",
    "\n",
    "def normalize(X):\n",
    "    '''\n",
    "    Normalizes the array\n",
    "    '''\n",
    "    mean = np.mean(X)\n",
    "    std = np.std(X)\n",
    "    X = (X - mean)/std\n",
    "    return X\n",
    "\n",
    "def append_bias_reshape(features, labels):\n",
    "    '''\n",
    "    adds bias to weights\n",
    "    '''\n",
    "    m = features.shape[0]\n",
    "    n = features.shape[1]\n",
    "    x = np.reshape(np.c_[np.ones(m), features], [m,n + 1])\n",
    "    y = np.reshape(labels, [m,1])\n",
    "    return x, y\n",
    "\n",
    "def get_boston_data():\n",
    "    '''\n",
    "    download and return normalized boston data with bias added\n",
    "    '''\n",
    "    boston = tf.contrib.learn.datasets.load_dataset('boston')\n",
    "    X_train, Y_train = boston.data, boston.target\n",
    "    X_train = normalize(X_train)\n",
    "    X_train, Y_train = append_bias_reshape(X_train, Y_train)\n",
    "    m = len(X_train)\n",
    "    n = X_train.shape[1]\n",
    "    print('m:{} ,n:{}'.format(m,n))\n",
    "    return X_train, Y_train\n",
    "\n",
    "\n",
    "class LinearRegressionModel():\n",
    "    '''\n",
    "    Multivariate linear regression model\n",
    "    '''\n",
    "    \n",
    "    def __init__(self, learning_rate = 0.01, shape = (506, 14)):\n",
    "        self.learning_rate = learning_rate\n",
    "        self.shape = shape\n",
    "        self.X = tf.placeholder(tf.float32, name = 'X')\n",
    "        self.Y = tf.placeholder(tf.float32, name = 'Y')\n",
    "        self.w = tf.Variable(tf.random_normal([self.shape[1],1]))\n",
    "        self.Y_hat = tf.matmul(self.X, self.w)\n",
    "        self.loss = tf.reduce_mean(tf.square(self.Y - self.Y_hat, name = 'loss'))\n",
    "        self.optimizer = tf.train.GradientDescentOptimizer(self.learning_rate).minimize(self.loss)\n",
    "        self.init_op = tf.global_variables_initializer()\n",
    "        self.sess = tf.Session()\n",
    "        \n",
    "    def fit(self, X, Y, epochs = 100, every = 10):\n",
    "        '''\n",
    "        optimizes weights\n",
    "        args:\n",
    "          X: <numpy.array>, features \n",
    "          Y: <numpy.array>, labels\n",
    "          epochs: <int>, number of epochs\n",
    "          every: <int>, how often print message with Epoch and Loss values\n",
    "        '''\n",
    "        total = []\n",
    "        self.sess.run(self.init_op)\n",
    "        for i in range(epochs):\n",
    "            _, l = self.sess.run([self.optimizer, self.loss], feed_dict = {self.X: X, self.Y: Y})\n",
    "            total.append(l)\n",
    "            if i % every == 0:\n",
    "                print('Epoch {} Loss: {}'.format(i, l))\n",
    "        weights = self.sess.run(self.w)\n",
    "        return total, weights\n",
    "    \n",
    "    def predict(self, X, before_fit = False):\n",
    "        '''\n",
    "        return predicted values, \n",
    "        \n",
    "        args:\n",
    "          X: <numpy.array>, features\n",
    "          before_fit: <boolean>, change to True if you want to use before calling fit method\n",
    "        '''\n",
    "        if before_fit:\n",
    "            self.sess.run(self.init_op)\n",
    "        Y_hat = self.sess.run(self.Y_hat, feed_dict = {self.X: X})\n",
    "        return Y_hat\n",
    "    \n",
    "    def show(self, values):\n",
    "        '''\n",
    "        plot graph\n",
    "        \n",
    "        args:\n",
    "          values: <list>, list or array of values to be plotted\n",
    "        '''\n",
    "        plt.plot(values)\n",
    "        plt.show()\n",
    "    \n",
    "    def close_session(self):\n",
    "        '''\n",
    "        closes tensorflow session\n",
    "        '''\n",
    "        self.sess.close()\n",
    "        return True\n",
    "    \n",
    "    def close_and_reset(self):\n",
    "        '''\n",
    "        closes tensorflow session, clears the default graph stack and resets the global default graph.\n",
    "        '''\n",
    "        self.sess.close()\n",
    "        tf.reset_default_graph()\n",
    "        return True"
   ]
  },
  {
   "cell_type": "code",
   "execution_count": 61,
   "metadata": {},
   "outputs": [
    {
     "name": "stdout",
     "output_type": "stream",
     "text": [
      "m:506 ,n:14\n",
      "Epoch 0 Loss: 271.436767578125\n",
      "Epoch 1000 Loss: 58.750343322753906\n",
      "Epoch 2000 Loss: 56.36000442504883\n",
      "Epoch 3000 Loss: 54.917991638183594\n",
      "Epoch 4000 Loss: 53.72114944458008\n",
      "Epoch 5000 Loss: 52.64610290527344\n",
      "Epoch 6000 Loss: 51.653682708740234\n",
      "Epoch 7000 Loss: 50.72605895996094\n",
      "Epoch 8000 Loss: 49.852970123291016\n",
      "Epoch 9000 Loss: 49.027618408203125\n"
     ]
    },
    {
     "data": {
      "image/png": "[encoded data removed]",
      "text/plain": [
       "<Figure size 432x288 with 1 Axes>"
      ]
     },
     "metadata": {},
     "output_type": "display_data"
    }
   ],
   "source": [
    "X_train, Y_train = get_boston_data()\n",
    "lr = LinearRegressionModel()\n",
    "predicted_before = lr.predict(X_train, True)\n",
    "losses, weights= lr.fit(X_train, Y_train, 10000, 1000)\n",
    "predicted_after = lr.predict(X_train)\n",
    "lr.close_and_reset()\n",
    "lr.show(losses)"
   ]
  },
  {
   "cell_type": "code",
   "execution_count": 65,
   "metadata": {},
   "outputs": [
    {
     "name": "stdout",
     "output_type": "stream",
     "text": [
      "[24.] [1.0676947] [27.162415]\n",
      "[21.6] [0.41446906] [25.311047]\n",
      "[34.7] [0.54760945] [26.458832]\n",
      "[33.4] [0.46191895] [27.176754]\n",
      "[36.2] [0.40124887] [26.654613]\n",
      "[28.7] [0.3247584] [26.619003]\n",
      "[22.9] [1.399284] [24.739468]\n",
      "[27.1] [1.1223514] [23.179821]\n",
      "[16.5] [1.1401207] [20.702637]\n",
      "[18.9] [1.1591593] [23.526329]\n"
     ]
    }
   ],
   "source": [
    "for x,y,z in zip(Y_train[:10], predicted_before[:10], predicted_after[:10]):\n",
    "    print(x, y, z)"
   ]
  }
 ],
 "metadata": {
  "kernelspec": {
   "display_name": "Python 3",
   "language": "python",
   "name": "python3"
  },
  "language_info": {
   "codemirror_mode": {
    "name": "ipython",
    "version": 3
   },
   "file_extension": ".py",
   "mimetype": "text/x-python",
   "name": "python",
   "nbconvert_exporter": "python",
   "pygments_lexer": "ipython3",
   "version": "3.6.6"
  }
 },
 "nbformat": 4,
 "nbformat_minor": 2
}
